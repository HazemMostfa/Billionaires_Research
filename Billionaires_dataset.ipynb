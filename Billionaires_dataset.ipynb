{
 "cells": [
  {
   "cell_type": "code",
   "execution_count": 1,
   "id": "cb75eaa0",
   "metadata": {},
   "outputs": [],
   "source": [
    "import os \n",
    "import numpy as np \n",
    "import pandas as pd\n",
    "from matplotlib import pyplot as plt\n",
    "import matplotlib.pyplot as plt\n",
    "import seaborn as sns\n",
    "%matplotlib inline"
   ]
  },
  {
   "cell_type": "code",
   "execution_count": 2,
   "id": "514c5145",
   "metadata": {},
   "outputs": [],
   "source": [
    "df=pd.read_csv(r'C:\\Users\\HP\\Downloads\\Billionaires_dataset.csv')"
   ]
  },
  {
   "cell_type": "code",
   "execution_count": 5,
   "id": "ba7b5f4e",
   "metadata": {},
   "outputs": [
    {
     "data": {
      "text/plain": [
       "(2591, 30)"
      ]
     },
     "execution_count": 5,
     "metadata": {},
     "output_type": "execute_result"
    }
   ],
   "source": [
    "df.shape"
   ]
  },
  {
   "cell_type": "code",
   "execution_count": 6,
   "id": "95f260d6",
   "metadata": {},
   "outputs": [
    {
     "data": {
      "text/html": [
       "<div>\n",
       "<style scoped>\n",
       "    .dataframe tbody tr th:only-of-type {\n",
       "        vertical-align: middle;\n",
       "    }\n",
       "\n",
       "    .dataframe tbody tr th {\n",
       "        vertical-align: top;\n",
       "    }\n",
       "\n",
       "    .dataframe thead th {\n",
       "        text-align: right;\n",
       "    }\n",
       "</style>\n",
       "<table border=\"1\" class=\"dataframe\">\n",
       "  <thead>\n",
       "    <tr style=\"text-align: right;\">\n",
       "      <th></th>\n",
       "      <th>position</th>\n",
       "      <th>wealth</th>\n",
       "      <th>industry</th>\n",
       "      <th>full_name</th>\n",
       "      <th>age</th>\n",
       "      <th>country_of_residence</th>\n",
       "      <th>city_of_residence</th>\n",
       "      <th>source</th>\n",
       "      <th>citizenship</th>\n",
       "      <th>gender</th>\n",
       "      <th>...</th>\n",
       "      <th>gdp_country</th>\n",
       "      <th>g_tertiary_ed_enroll</th>\n",
       "      <th>g_primary_ed_enroll</th>\n",
       "      <th>life_expectancy</th>\n",
       "      <th>tax_revenue</th>\n",
       "      <th>tax_rate</th>\n",
       "      <th>country_pop</th>\n",
       "      <th>country_lat</th>\n",
       "      <th>country_long</th>\n",
       "      <th>continent</th>\n",
       "    </tr>\n",
       "  </thead>\n",
       "  <tbody>\n",
       "    <tr>\n",
       "      <th>0</th>\n",
       "      <td>1</td>\n",
       "      <td>211000</td>\n",
       "      <td>Fashion &amp; Retail</td>\n",
       "      <td>Bernard Arnault &amp; family</td>\n",
       "      <td>74</td>\n",
       "      <td>France</td>\n",
       "      <td>Paris</td>\n",
       "      <td>LVMH</td>\n",
       "      <td>France</td>\n",
       "      <td>M</td>\n",
       "      <td>...</td>\n",
       "      <td>2715518274227</td>\n",
       "      <td>65.6</td>\n",
       "      <td>102.5</td>\n",
       "      <td>82.5</td>\n",
       "      <td>24.2</td>\n",
       "      <td>60.7</td>\n",
       "      <td>67059887</td>\n",
       "      <td>46.227638</td>\n",
       "      <td>2.213749</td>\n",
       "      <td>Europe</td>\n",
       "    </tr>\n",
       "    <tr>\n",
       "      <th>1</th>\n",
       "      <td>2</td>\n",
       "      <td>180000</td>\n",
       "      <td>Automotive</td>\n",
       "      <td>Elon Musk</td>\n",
       "      <td>51</td>\n",
       "      <td>United States</td>\n",
       "      <td>Austin</td>\n",
       "      <td>Tesla, SpaceX</td>\n",
       "      <td>United States</td>\n",
       "      <td>M</td>\n",
       "      <td>...</td>\n",
       "      <td>21427700000000</td>\n",
       "      <td>88.2</td>\n",
       "      <td>101.8</td>\n",
       "      <td>78.5</td>\n",
       "      <td>9.6</td>\n",
       "      <td>36.6</td>\n",
       "      <td>328239523</td>\n",
       "      <td>37.090240</td>\n",
       "      <td>-95.712891</td>\n",
       "      <td>North America</td>\n",
       "    </tr>\n",
       "    <tr>\n",
       "      <th>2</th>\n",
       "      <td>3</td>\n",
       "      <td>114000</td>\n",
       "      <td>Technology</td>\n",
       "      <td>Jeff Bezos</td>\n",
       "      <td>59</td>\n",
       "      <td>United States</td>\n",
       "      <td>Medina</td>\n",
       "      <td>Amazon</td>\n",
       "      <td>United States</td>\n",
       "      <td>M</td>\n",
       "      <td>...</td>\n",
       "      <td>21427700000000</td>\n",
       "      <td>88.2</td>\n",
       "      <td>101.8</td>\n",
       "      <td>78.5</td>\n",
       "      <td>9.6</td>\n",
       "      <td>36.6</td>\n",
       "      <td>328239523</td>\n",
       "      <td>37.090240</td>\n",
       "      <td>-95.712891</td>\n",
       "      <td>North America</td>\n",
       "    </tr>\n",
       "    <tr>\n",
       "      <th>3</th>\n",
       "      <td>4</td>\n",
       "      <td>107000</td>\n",
       "      <td>Technology</td>\n",
       "      <td>Larry Ellison</td>\n",
       "      <td>78</td>\n",
       "      <td>United States</td>\n",
       "      <td>Lanai</td>\n",
       "      <td>Oracle</td>\n",
       "      <td>United States</td>\n",
       "      <td>M</td>\n",
       "      <td>...</td>\n",
       "      <td>21427700000000</td>\n",
       "      <td>88.2</td>\n",
       "      <td>101.8</td>\n",
       "      <td>78.5</td>\n",
       "      <td>9.6</td>\n",
       "      <td>36.6</td>\n",
       "      <td>328239523</td>\n",
       "      <td>37.090240</td>\n",
       "      <td>-95.712891</td>\n",
       "      <td>North America</td>\n",
       "    </tr>\n",
       "    <tr>\n",
       "      <th>4</th>\n",
       "      <td>5</td>\n",
       "      <td>106000</td>\n",
       "      <td>Finance &amp; Investments</td>\n",
       "      <td>Warren Buffett</td>\n",
       "      <td>92</td>\n",
       "      <td>United States</td>\n",
       "      <td>Omaha</td>\n",
       "      <td>Berkshire Hathaway</td>\n",
       "      <td>United States</td>\n",
       "      <td>M</td>\n",
       "      <td>...</td>\n",
       "      <td>21427700000000</td>\n",
       "      <td>88.2</td>\n",
       "      <td>101.8</td>\n",
       "      <td>78.5</td>\n",
       "      <td>9.6</td>\n",
       "      <td>36.6</td>\n",
       "      <td>328239523</td>\n",
       "      <td>37.090240</td>\n",
       "      <td>-95.712891</td>\n",
       "      <td>North America</td>\n",
       "    </tr>\n",
       "  </tbody>\n",
       "</table>\n",
       "<p>5 rows × 30 columns</p>\n",
       "</div>"
      ],
      "text/plain": [
       "   position  wealth               industry                 full_name  age  \\\n",
       "0         1  211000       Fashion & Retail  Bernard Arnault & family   74   \n",
       "1         2  180000             Automotive                 Elon Musk   51   \n",
       "2         3  114000             Technology                Jeff Bezos   59   \n",
       "3         4  107000             Technology             Larry Ellison   78   \n",
       "4         5  106000  Finance & Investments            Warren Buffett   92   \n",
       "\n",
       "  country_of_residence city_of_residence              source    citizenship  \\\n",
       "0               France             Paris                LVMH         France   \n",
       "1        United States            Austin       Tesla, SpaceX  United States   \n",
       "2        United States            Medina              Amazon  United States   \n",
       "3        United States             Lanai              Oracle  United States   \n",
       "4        United States             Omaha  Berkshire Hathaway  United States   \n",
       "\n",
       "  gender  ...     gdp_country g_tertiary_ed_enroll g_primary_ed_enroll  \\\n",
       "0      M  ...   2715518274227                 65.6               102.5   \n",
       "1      M  ...  21427700000000                 88.2               101.8   \n",
       "2      M  ...  21427700000000                 88.2               101.8   \n",
       "3      M  ...  21427700000000                 88.2               101.8   \n",
       "4      M  ...  21427700000000                 88.2               101.8   \n",
       "\n",
       "  life_expectancy tax_revenue  tax_rate  country_pop  country_lat  \\\n",
       "0            82.5        24.2      60.7     67059887    46.227638   \n",
       "1            78.5         9.6      36.6    328239523    37.090240   \n",
       "2            78.5         9.6      36.6    328239523    37.090240   \n",
       "3            78.5         9.6      36.6    328239523    37.090240   \n",
       "4            78.5         9.6      36.6    328239523    37.090240   \n",
       "\n",
       "  country_long      continent  \n",
       "0     2.213749         Europe  \n",
       "1   -95.712891  North America  \n",
       "2   -95.712891  North America  \n",
       "3   -95.712891  North America  \n",
       "4   -95.712891  North America  \n",
       "\n",
       "[5 rows x 30 columns]"
      ]
     },
     "execution_count": 6,
     "metadata": {},
     "output_type": "execute_result"
    }
   ],
   "source": [
    "df.head()"
   ]
  },
  {
   "cell_type": "code",
   "execution_count": 10,
   "id": "6af05319",
   "metadata": {},
   "outputs": [],
   "source": [
    "df=df[['position', 'wealth', 'industry', 'full_name', 'age',\n",
    "       'country_of_residence','source','gender','tax_revenue','continent']]"
   ]
  },
  {
   "cell_type": "code",
   "execution_count": 11,
   "id": "d77e72dd",
   "metadata": {},
   "outputs": [
    {
     "data": {
      "text/html": [
       "<div>\n",
       "<style scoped>\n",
       "    .dataframe tbody tr th:only-of-type {\n",
       "        vertical-align: middle;\n",
       "    }\n",
       "\n",
       "    .dataframe tbody tr th {\n",
       "        vertical-align: top;\n",
       "    }\n",
       "\n",
       "    .dataframe thead th {\n",
       "        text-align: right;\n",
       "    }\n",
       "</style>\n",
       "<table border=\"1\" class=\"dataframe\">\n",
       "  <thead>\n",
       "    <tr style=\"text-align: right;\">\n",
       "      <th></th>\n",
       "      <th>position</th>\n",
       "      <th>wealth</th>\n",
       "      <th>industry</th>\n",
       "      <th>full_name</th>\n",
       "      <th>age</th>\n",
       "      <th>country_of_residence</th>\n",
       "      <th>source</th>\n",
       "      <th>gender</th>\n",
       "      <th>tax_revenue</th>\n",
       "      <th>continent</th>\n",
       "    </tr>\n",
       "  </thead>\n",
       "  <tbody>\n",
       "    <tr>\n",
       "      <th>0</th>\n",
       "      <td>1</td>\n",
       "      <td>211000</td>\n",
       "      <td>Fashion &amp; Retail</td>\n",
       "      <td>Bernard Arnault &amp; family</td>\n",
       "      <td>74</td>\n",
       "      <td>France</td>\n",
       "      <td>LVMH</td>\n",
       "      <td>M</td>\n",
       "      <td>24.2</td>\n",
       "      <td>Europe</td>\n",
       "    </tr>\n",
       "    <tr>\n",
       "      <th>1</th>\n",
       "      <td>2</td>\n",
       "      <td>180000</td>\n",
       "      <td>Automotive</td>\n",
       "      <td>Elon Musk</td>\n",
       "      <td>51</td>\n",
       "      <td>United States</td>\n",
       "      <td>Tesla, SpaceX</td>\n",
       "      <td>M</td>\n",
       "      <td>9.6</td>\n",
       "      <td>North America</td>\n",
       "    </tr>\n",
       "    <tr>\n",
       "      <th>2</th>\n",
       "      <td>3</td>\n",
       "      <td>114000</td>\n",
       "      <td>Technology</td>\n",
       "      <td>Jeff Bezos</td>\n",
       "      <td>59</td>\n",
       "      <td>United States</td>\n",
       "      <td>Amazon</td>\n",
       "      <td>M</td>\n",
       "      <td>9.6</td>\n",
       "      <td>North America</td>\n",
       "    </tr>\n",
       "    <tr>\n",
       "      <th>3</th>\n",
       "      <td>4</td>\n",
       "      <td>107000</td>\n",
       "      <td>Technology</td>\n",
       "      <td>Larry Ellison</td>\n",
       "      <td>78</td>\n",
       "      <td>United States</td>\n",
       "      <td>Oracle</td>\n",
       "      <td>M</td>\n",
       "      <td>9.6</td>\n",
       "      <td>North America</td>\n",
       "    </tr>\n",
       "    <tr>\n",
       "      <th>4</th>\n",
       "      <td>5</td>\n",
       "      <td>106000</td>\n",
       "      <td>Finance &amp; Investments</td>\n",
       "      <td>Warren Buffett</td>\n",
       "      <td>92</td>\n",
       "      <td>United States</td>\n",
       "      <td>Berkshire Hathaway</td>\n",
       "      <td>M</td>\n",
       "      <td>9.6</td>\n",
       "      <td>North America</td>\n",
       "    </tr>\n",
       "    <tr>\n",
       "      <th>...</th>\n",
       "      <td>...</td>\n",
       "      <td>...</td>\n",
       "      <td>...</td>\n",
       "      <td>...</td>\n",
       "      <td>...</td>\n",
       "      <td>...</td>\n",
       "      <td>...</td>\n",
       "      <td>...</td>\n",
       "      <td>...</td>\n",
       "      <td>...</td>\n",
       "    </tr>\n",
       "    <tr>\n",
       "      <th>2586</th>\n",
       "      <td>2540</td>\n",
       "      <td>1000</td>\n",
       "      <td>Healthcare</td>\n",
       "      <td>Yu Rong</td>\n",
       "      <td>51</td>\n",
       "      <td>China</td>\n",
       "      <td>Health clinics</td>\n",
       "      <td>M</td>\n",
       "      <td>9.4</td>\n",
       "      <td>Asia</td>\n",
       "    </tr>\n",
       "    <tr>\n",
       "      <th>2587</th>\n",
       "      <td>2540</td>\n",
       "      <td>1000</td>\n",
       "      <td>Food &amp; Beverage</td>\n",
       "      <td>Richard Yuengling, Jr.</td>\n",
       "      <td>80</td>\n",
       "      <td>United States</td>\n",
       "      <td>Beer</td>\n",
       "      <td>M</td>\n",
       "      <td>9.6</td>\n",
       "      <td>North America</td>\n",
       "    </tr>\n",
       "    <tr>\n",
       "      <th>2588</th>\n",
       "      <td>2540</td>\n",
       "      <td>1000</td>\n",
       "      <td>Manufacturing</td>\n",
       "      <td>Zhang Gongyun</td>\n",
       "      <td>60</td>\n",
       "      <td>China</td>\n",
       "      <td>Tyre manufacturing machinery</td>\n",
       "      <td>M</td>\n",
       "      <td>9.4</td>\n",
       "      <td>Asia</td>\n",
       "    </tr>\n",
       "    <tr>\n",
       "      <th>2589</th>\n",
       "      <td>2540</td>\n",
       "      <td>1000</td>\n",
       "      <td>Real Estate</td>\n",
       "      <td>Zhang Guiping &amp; family</td>\n",
       "      <td>71</td>\n",
       "      <td>China</td>\n",
       "      <td>Real estate</td>\n",
       "      <td>M</td>\n",
       "      <td>9.4</td>\n",
       "      <td>Asia</td>\n",
       "    </tr>\n",
       "    <tr>\n",
       "      <th>2590</th>\n",
       "      <td>2540</td>\n",
       "      <td>1000</td>\n",
       "      <td>Diversified</td>\n",
       "      <td>Inigo Zobel</td>\n",
       "      <td>66</td>\n",
       "      <td>Philippines</td>\n",
       "      <td>Diversified</td>\n",
       "      <td>M</td>\n",
       "      <td>14.0</td>\n",
       "      <td>Asia</td>\n",
       "    </tr>\n",
       "  </tbody>\n",
       "</table>\n",
       "<p>2591 rows × 10 columns</p>\n",
       "</div>"
      ],
      "text/plain": [
       "      position  wealth               industry                 full_name  age  \\\n",
       "0            1  211000       Fashion & Retail  Bernard Arnault & family   74   \n",
       "1            2  180000             Automotive                 Elon Musk   51   \n",
       "2            3  114000             Technology                Jeff Bezos   59   \n",
       "3            4  107000             Technology             Larry Ellison   78   \n",
       "4            5  106000  Finance & Investments            Warren Buffett   92   \n",
       "...        ...     ...                    ...                       ...  ...   \n",
       "2586      2540    1000             Healthcare                   Yu Rong   51   \n",
       "2587      2540    1000        Food & Beverage    Richard Yuengling, Jr.   80   \n",
       "2588      2540    1000          Manufacturing             Zhang Gongyun   60   \n",
       "2589      2540    1000            Real Estate    Zhang Guiping & family   71   \n",
       "2590      2540    1000            Diversified               Inigo Zobel   66   \n",
       "\n",
       "     country_of_residence                        source gender  tax_revenue  \\\n",
       "0                  France                          LVMH      M         24.2   \n",
       "1           United States                 Tesla, SpaceX      M          9.6   \n",
       "2           United States                        Amazon      M          9.6   \n",
       "3           United States                        Oracle      M          9.6   \n",
       "4           United States            Berkshire Hathaway      M          9.6   \n",
       "...                   ...                           ...    ...          ...   \n",
       "2586                China                Health clinics      M          9.4   \n",
       "2587        United States                          Beer      M          9.6   \n",
       "2588                China  Tyre manufacturing machinery      M          9.4   \n",
       "2589                China                   Real estate      M          9.4   \n",
       "2590          Philippines                   Diversified      M         14.0   \n",
       "\n",
       "          continent  \n",
       "0            Europe  \n",
       "1     North America  \n",
       "2     North America  \n",
       "3     North America  \n",
       "4     North America  \n",
       "...             ...  \n",
       "2586           Asia  \n",
       "2587  North America  \n",
       "2588           Asia  \n",
       "2589           Asia  \n",
       "2590           Asia  \n",
       "\n",
       "[2591 rows x 10 columns]"
      ]
     },
     "execution_count": 11,
     "metadata": {},
     "output_type": "execute_result"
    }
   ],
   "source": [
    "df"
   ]
  },
  {
   "cell_type": "code",
   "execution_count": null,
   "id": "78f20b86",
   "metadata": {},
   "outputs": [],
   "source": []
  },
  {
   "cell_type": "markdown",
   "id": "ef911f53",
   "metadata": {},
   "source": [
    "# task 1: which five counrties have the most wealth regards to there billionairs"
   ]
  },
  {
   "cell_type": "code",
   "execution_count": 26,
   "id": "adbd9c8f",
   "metadata": {},
   "outputs": [],
   "source": [
    "c=df.groupby('country_of_residence',as_index=False)\n",
    ".sum('wealth').sort_values(by='wealth',ascending=False)\n",
    ".reset_index(drop=True).iloc[0:5,0:3]"
   ]
  },
  {
   "cell_type": "code",
   "execution_count": 34,
   "id": "5bd43b8f",
   "metadata": {},
   "outputs": [],
   "source": [
    "c.drop(columns={'position'},inplace=True)\n",
    "c.rename(columns={'country_of_residence':'Country','wealth':'Total_Wealth'},inplace=True)"
   ]
  },
  {
   "cell_type": "code",
   "execution_count": 35,
   "id": "4ffd1f94",
   "metadata": {},
   "outputs": [
    {
     "data": {
      "text/html": [
       "<div>\n",
       "<style scoped>\n",
       "    .dataframe tbody tr th:only-of-type {\n",
       "        vertical-align: middle;\n",
       "    }\n",
       "\n",
       "    .dataframe tbody tr th {\n",
       "        vertical-align: top;\n",
       "    }\n",
       "\n",
       "    .dataframe thead th {\n",
       "        text-align: right;\n",
       "    }\n",
       "</style>\n",
       "<table border=\"1\" class=\"dataframe\">\n",
       "  <thead>\n",
       "    <tr style=\"text-align: right;\">\n",
       "      <th></th>\n",
       "      <th>Country</th>\n",
       "      <th>Total_Wealth</th>\n",
       "    </tr>\n",
       "  </thead>\n",
       "  <tbody>\n",
       "    <tr>\n",
       "      <th>0</th>\n",
       "      <td>United States</td>\n",
       "      <td>4575100</td>\n",
       "    </tr>\n",
       "    <tr>\n",
       "      <th>1</th>\n",
       "      <td>China</td>\n",
       "      <td>1790000</td>\n",
       "    </tr>\n",
       "    <tr>\n",
       "      <th>2</th>\n",
       "      <td>India</td>\n",
       "      <td>628700</td>\n",
       "    </tr>\n",
       "    <tr>\n",
       "      <th>3</th>\n",
       "      <td>France</td>\n",
       "      <td>499500</td>\n",
       "    </tr>\n",
       "    <tr>\n",
       "      <th>4</th>\n",
       "      <td>Germany</td>\n",
       "      <td>462100</td>\n",
       "    </tr>\n",
       "  </tbody>\n",
       "</table>\n",
       "</div>"
      ],
      "text/plain": [
       "         Country  Total_Wealth\n",
       "0  United States       4575100\n",
       "1          China       1790000\n",
       "2          India        628700\n",
       "3         France        499500\n",
       "4        Germany        462100"
      ]
     },
     "execution_count": 35,
     "metadata": {},
     "output_type": "execute_result"
    }
   ],
   "source": [
    "c"
   ]
  },
  {
   "cell_type": "code",
   "execution_count": 93,
   "id": "5420c395",
   "metadata": {},
   "outputs": [
    {
     "data": {
      "image/png": "[encoded data removed]",
      "text/plain": [
       "<Figure size 1000x400 with 1 Axes>"
      ]
     },
     "metadata": {},
     "output_type": "display_data"
    }
   ],
   "source": [
    "fig, ax = plt.subplots(figsize=(10, 4))\n",
    "\n",
    "sns.set_context('paper',font_scale=1)\n",
    "sns.barplot(data=c,x='Country',y='Total_Wealth',palette='afmhot')\n",
    "sns.despine(top=False,\n",
    "    right=False)\n",
    "plt.title('The most five countries with billionairs')\n",
    "ax.bar_label(ax.containers[0])\n",
    "plt.show()"
   ]
  },
  {
   "cell_type": "code",
   "execution_count": 71,
   "id": "80516009",
   "metadata": {},
   "outputs": [],
   "source": [
    "df1=df.iloc[0:20,:].copy()"
   ]
  },
  {
   "cell_type": "markdown",
   "id": "beb5186e",
   "metadata": {},
   "source": [
    "# task 2: finding out if there a correlation between  age and wealth\n"
   ]
  },
  {
   "cell_type": "code",
   "execution_count": 150,
   "id": "825a67d7",
   "metadata": {},
   "outputs": [
    {
     "name": "stderr",
     "output_type": "stream",
     "text": [
      "C:\\Users\\HP\\anaconda3\\Lib\\site-packages\\seaborn\\axisgrid.py:118: UserWarning: The figure layout has changed to tight\n",
      "  self._figure.tight_layout(*args, **kwargs)\n"
     ]
    },
    {
     "data": {
      "text/plain": [
       "<Figure size 200x200 with 0 Axes>"
      ]
     },
     "metadata": {},
     "output_type": "display_data"
    },
    {
     "data": {
      "image/png": "[encoded data removed]",
      "text/plain": [
       "<Figure size 500x500 with 1 Axes>"
      ]
     },
     "metadata": {},
     "output_type": "display_data"
    }
   ],
   "source": [
    "plt.figure(figsize=(2,2))\n",
    "sns.lmplot(df1,x='age',y='wealth',ci=False,palette='afmhot')\n",
    "plt.title('correlation between age and wealth')\n",
    "plt.show()"
   ]
  },
  {
   "cell_type": "markdown",
   "id": "0e2edadd",
   "metadata": {},
   "source": [
    "I do not there is correlation between the age and the wealth"
   ]
  },
  {
   "cell_type": "code",
   "execution_count": null,
   "id": "dae9290a",
   "metadata": {},
   "outputs": [],
   "source": []
  },
  {
   "cell_type": "markdown",
   "id": "c4a40380",
   "metadata": {},
   "source": [
    "# task 3: what is the most popular age for billionairs"
   ]
  },
  {
   "cell_type": "code",
   "execution_count": 149,
   "id": "7deaf588",
   "metadata": {},
   "outputs": [
    {
     "name": "stderr",
     "output_type": "stream",
     "text": [
      "C:\\Users\\HP\\AppData\\Local\\Temp\\ipykernel_18464\\3317550067.py:1: UserWarning: \n",
      "\n",
      "`distplot` is a deprecated function and will be removed in seaborn v0.14.0.\n",
      "\n",
      "Please adapt your code to use either `displot` (a figure-level function with\n",
      "similar flexibility) or `histplot` (an axes-level function for histograms).\n",
      "\n",
      "For a guide to updating your code to use the new functions, please see\n",
      "https://gist.github.com/mwaskom/de44147ed2974457ad6372750bbe5751\n",
      "\n",
      "  sns.distplot(x=df['age'],bins=15,kde=False,color='#ff4d00')\n"
     ]
    },
    {
     "data": {
      "image/png": "[encoded data removed]",
      "text/plain": [
       "<Figure size 640x480 with 1 Axes>"
      ]
     },
     "metadata": {},
     "output_type": "display_data"
    }
   ],
   "source": [
    "sns.distplot(x=df['age'],bins=15,kde=False,color='#ff4d00')\n",
    "plt.title('The age distribution among the billionairs ')\n",
    "plt.show()"
   ]
  },
  {
   "cell_type": "markdown",
   "id": "10b0c75c",
   "metadata": {},
   "source": [
    "I think the most popular age is around (50 - 70)"
   ]
  },
  {
   "cell_type": "code",
   "execution_count": null,
   "id": "f557f295",
   "metadata": {},
   "outputs": [],
   "source": []
  },
  {
   "cell_type": "markdown",
   "id": "2b67654f",
   "metadata": {},
   "source": [
    "# task 4: what is the most five industries with billionairs"
   ]
  },
  {
   "cell_type": "code",
   "execution_count": 109,
   "id": "c63911b7",
   "metadata": {},
   "outputs": [],
   "source": [
    "d=df.groupby('industry',as_index=False).count().sort_values(by='position',ascending=False).iloc[0:5,0:2]"
   ]
  },
  {
   "cell_type": "code",
   "execution_count": 113,
   "id": "3ac62360",
   "metadata": {},
   "outputs": [],
   "source": [
    "d.rename(columns={'position':'count_of_idustries'},inplace=True)"
   ]
  },
  {
   "cell_type": "code",
   "execution_count": 115,
   "id": "4320a718",
   "metadata": {},
   "outputs": [
    {
     "data": {
      "text/html": [
       "<div>\n",
       "<style scoped>\n",
       "    .dataframe tbody tr th:only-of-type {\n",
       "        vertical-align: middle;\n",
       "    }\n",
       "\n",
       "    .dataframe tbody tr th {\n",
       "        vertical-align: top;\n",
       "    }\n",
       "\n",
       "    .dataframe thead th {\n",
       "        text-align: right;\n",
       "    }\n",
       "</style>\n",
       "<table border=\"1\" class=\"dataframe\">\n",
       "  <thead>\n",
       "    <tr style=\"text-align: right;\">\n",
       "      <th></th>\n",
       "      <th>industry</th>\n",
       "      <th>count_of_idustries</th>\n",
       "    </tr>\n",
       "  </thead>\n",
       "  <tbody>\n",
       "    <tr>\n",
       "      <th>5</th>\n",
       "      <td>Finance &amp; Investments</td>\n",
       "      <td>364</td>\n",
       "    </tr>\n",
       "    <tr>\n",
       "      <th>10</th>\n",
       "      <td>Manufacturing</td>\n",
       "      <td>316</td>\n",
       "    </tr>\n",
       "    <tr>\n",
       "      <th>16</th>\n",
       "      <td>Technology</td>\n",
       "      <td>312</td>\n",
       "    </tr>\n",
       "    <tr>\n",
       "      <th>4</th>\n",
       "      <td>Fashion &amp; Retail</td>\n",
       "      <td>261</td>\n",
       "    </tr>\n",
       "    <tr>\n",
       "      <th>6</th>\n",
       "      <td>Food &amp; Beverage</td>\n",
       "      <td>207</td>\n",
       "    </tr>\n",
       "  </tbody>\n",
       "</table>\n",
       "</div>"
      ],
      "text/plain": [
       "                 industry  count_of_idustries\n",
       "5   Finance & Investments                 364\n",
       "10          Manufacturing                 316\n",
       "16             Technology                 312\n",
       "4        Fashion & Retail                 261\n",
       "6         Food & Beverage                 207"
      ]
     },
     "execution_count": 115,
     "metadata": {},
     "output_type": "execute_result"
    }
   ],
   "source": [
    "d"
   ]
  },
  {
   "cell_type": "code",
   "execution_count": 116,
   "id": "708c2a37",
   "metadata": {},
   "outputs": [
    {
     "data": {
      "image/png": "[encoded data removed]",
      "text/plain": [
       "<Figure size 1000x400 with 1 Axes>"
      ]
     },
     "metadata": {},
     "output_type": "display_data"
    }
   ],
   "source": [
    "fig, ax = plt.subplots(figsize=(10, 4))\n",
    "\n",
    "sns.set_context('paper',font_scale=1)\n",
    "sns.barplot(data=d,x='industry',y='count_of_idustries',palette='afmhot')\n",
    "sns.despine(top=False,\n",
    "    right=False)\n",
    "plt.title('The most five industries with billionairs')\n",
    "ax.bar_label(ax.containers[0])\n",
    "plt.show()"
   ]
  },
  {
   "cell_type": "code",
   "execution_count": null,
   "id": "3cd996cc",
   "metadata": {},
   "outputs": [],
   "source": []
  },
  {
   "cell_type": "markdown",
   "id": "9d8cc905",
   "metadata": {},
   "source": [
    "# task 5:display the difference between male vs feamle "
   ]
  },
  {
   "cell_type": "code",
   "execution_count": 119,
   "id": "6370dc2a",
   "metadata": {},
   "outputs": [],
   "source": [
    "v=df.groupby('gender',as_index=False).count().sort_values(by='position',ascending=False).iloc[0:5,0:2]"
   ]
  },
  {
   "cell_type": "code",
   "execution_count": 121,
   "id": "a588a10a",
   "metadata": {},
   "outputs": [],
   "source": [
    "v.rename(columns={'position':'count_of_people'},inplace=True)"
   ]
  },
  {
   "cell_type": "code",
   "execution_count": 140,
   "id": "dde2f7b4",
   "metadata": {},
   "outputs": [
    {
     "data": {
      "image/png": "[encoded data removed]",
      "text/plain": [
       "<Figure size 1000x400 with 1 Axes>"
      ]
     },
     "metadata": {},
     "output_type": "display_data"
    }
   ],
   "source": [
    "fig, ax = plt.subplots(figsize=(10, 4))\n",
    "\n",
    "sns.set_context('paper',font_scale=1)\n",
    "sns.barplot(data=v,x='gender',y='count_of_people',palette='afmhot')\n",
    "sns.despine(top=False,\n",
    "    right=False)\n",
    "plt.title('Male vs Female')\n",
    "ax.bar_label(ax.containers[0])\n",
    "plt.show()"
   ]
  },
  {
   "cell_type": "code",
   "execution_count": null,
   "id": "2dda06d0",
   "metadata": {},
   "outputs": [],
   "source": []
  },
  {
   "cell_type": "code",
   "execution_count": null,
   "id": "3998a0b9",
   "metadata": {},
   "outputs": [],
   "source": []
  }
 ],
 "metadata": {
  "kernelspec": {
   "display_name": "Python 3 (ipykernel)",
   "language": "python",
   "name": "python3"
  },
  "language_info": {
   "codemirror_mode": {
    "name": "ipython",
    "version": 3
   },
   "file_extension": ".py",
   "mimetype": "text/x-python",
   "name": "python",
   "nbconvert_exporter": "python",
   "pygments_lexer": "ipython3",
   "version": "3.11.5"
  }
 },
 "nbformat": 4,
 "nbformat_minor": 5
}
